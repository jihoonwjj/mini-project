{
 "cells": [
  {
   "cell_type": "markdown",
   "id": "ed9254b3",
   "metadata": {
    "id": "ed9254b3"
   },
   "source": [
    "### ML 예측모델 만들기 - 붓꽃"
   ]
  },
  {
   "cell_type": "code",
   "execution_count": null,
   "id": "e99d3eb0",
   "metadata": {
    "executionInfo": {
     "elapsed": 12133,
     "status": "ok",
     "timestamp": 1743374744657,
     "user": {
      "displayName": "박병운",
      "userId": "04400398390095856511"
     },
     "user_tz": -540
    },
    "id": "e99d3eb0"
   },
   "outputs": [],
   "source": [
    "import pandas as pd\n",
    "import numpy as np\n",
    "import pickle\n",
    "from sklearn.datasets import load_iris\n",
    "from sklearn.ensemble import RandomForestClassifier\n",
    "from sklearn.preprocessing import MinMaxScaler"
   ]
  },
  {
   "cell_type": "markdown",
   "id": "93b13b05",
   "metadata": {
    "id": "93b13b05"
   },
   "source": [
    "#### 1. 붗꽃 데이터를 가져와서 전처리 한다:"
   ]
  },
  {
   "cell_type": "code",
   "execution_count": null,
   "id": "1c30598b",
   "metadata": {
    "executionInfo": {
     "elapsed": 19,
     "status": "ok",
     "timestamp": 1743374770319,
     "user": {
      "displayName": "박병운",
      "userId": "04400398390095856511"
     },
     "user_tz": -540
    },
    "id": "1c30598b"
   },
   "outputs": [],
   "source": [
    "# 붓꽃 데이터를 불러온다.\n",
    "my_data = load_iris()"
   ]
  },
  {
   "cell_type": "code",
   "execution_count": null,
   "id": "bc2ffcb9",
   "metadata": {
    "executionInfo": {
     "elapsed": 5,
     "status": "ok",
     "timestamp": 1743374772751,
     "user": {
      "displayName": "박병운",
      "userId": "04400398390095856511"
     },
     "user_tz": -540
    },
    "id": "bc2ffcb9"
   },
   "outputs": [],
   "source": [
    "# Y는 그대로 받아 둔다.\n",
    "my_Y = my_data[\"target\"]\n",
    "#my_Y"
   ]
  },
  {
   "cell_type": "code",
   "execution_count": null,
   "id": "6lg92nkQe11l",
   "metadata": {
    "colab": {
     "base_uri": "https://localhost:8080/"
    },
    "executionInfo": {
     "elapsed": 4,
     "status": "ok",
     "timestamp": 1743374774323,
     "user": {
      "displayName": "박병운",
      "userId": "04400398390095856511"
     },
     "user_tz": -540
    },
    "id": "6lg92nkQe11l",
    "outputId": "ccea9b80-9246-4b31-cdae-0a1fbfc83588"
   },
   "outputs": [],
   "source": [
    "my_Y"
   ]
  },
  {
   "cell_type": "code",
   "execution_count": null,
   "id": "3e558de5",
   "metadata": {
    "colab": {
     "base_uri": "https://localhost:8080/"
    },
    "executionInfo": {
     "elapsed": 4,
     "status": "ok",
     "timestamp": 1743374784752,
     "user": {
      "displayName": "박병운",
      "userId": "04400398390095856511"
     },
     "user_tz": -540
    },
    "id": "3e558de5",
    "outputId": "2aca01c7-63c6-4a56-eb18-38999d6c667f"
   },
   "outputs": [],
   "source": [
    "# Y의 유형을 출력해 본다.\n",
    "my_data[\"target_names\"]"
   ]
  },
  {
   "cell_type": "code",
   "execution_count": null,
   "id": "LMfrlddQe7kc",
   "metadata": {
    "colab": {
     "base_uri": "https://localhost:8080/"
    },
    "executionInfo": {
     "elapsed": 43,
     "status": "ok",
     "timestamp": 1743374786025,
     "user": {
      "displayName": "박병운",
      "userId": "04400398390095856511"
     },
     "user_tz": -540
    },
    "id": "LMfrlddQe7kc",
    "outputId": "a386cc0e-4266-4ea1-8162-2ad468d6adfe"
   },
   "outputs": [],
   "source": [
    "my_data"
   ]
  },
  {
   "cell_type": "code",
   "execution_count": null,
   "id": "b4c51093",
   "metadata": {
    "executionInfo": {
     "elapsed": 7,
     "status": "ok",
     "timestamp": 1743374789493,
     "user": {
      "displayName": "박병운",
      "userId": "04400398390095856511"
     },
     "user_tz": -540
    },
    "id": "b4c51093"
   },
   "outputs": [],
   "source": [
    "# 전처리.\n",
    "# X에 MinMaxScaling을 적용한다.\n",
    "my_X = my_data[\"data\"]\n",
    "my_scaler = MinMaxScaler()\n",
    "my_X = my_scaler.fit_transform(my_X)"
   ]
  },
  {
   "cell_type": "code",
   "execution_count": null,
   "id": "37757c66",
   "metadata": {
    "executionInfo": {
     "elapsed": 3,
     "status": "ok",
     "timestamp": 1743374791319,
     "user": {
      "displayName": "박병운",
      "userId": "04400398390095856511"
     },
     "user_tz": -540
    },
    "id": "37757c66"
   },
   "outputs": [],
   "source": [
    "# Feature 이름.\n",
    "my_features_X = [\"sepal_length\", \"sepal_width\", \"petal_length\", \"petal_width\"]"
   ]
  },
  {
   "cell_type": "code",
   "execution_count": null,
   "id": "607a6140",
   "metadata": {
    "colab": {
     "base_uri": "https://localhost:8080/",
     "height": 206
    },
    "executionInfo": {
     "elapsed": 84,
     "status": "ok",
     "timestamp": 1743374792456,
     "user": {
      "displayName": "박병운",
      "userId": "04400398390095856511"
     },
     "user_tz": -540
    },
    "id": "607a6140",
    "outputId": "7821ba75-bc31-449e-cd43-918b9b1f495a"
   },
   "outputs": [],
   "source": [
    "# X만으로 이루어진 데이터 프레임.\n",
    "my_df_X = pd.DataFrame(data=my_X, columns=my_features_X)\n",
    "my_df_X.head()"
   ]
  },
  {
   "cell_type": "markdown",
   "id": "f2e0f8eb",
   "metadata": {
    "id": "f2e0f8eb"
   },
   "source": [
    "#### 2. ML 모델 생성과 저장:"
   ]
  },
  {
   "cell_type": "code",
   "execution_count": null,
   "id": "0788bc94",
   "metadata": {
    "colab": {
     "base_uri": "https://localhost:8080/",
     "height": 80
    },
    "executionInfo": {
     "elapsed": 219,
     "status": "ok",
     "timestamp": 1743374795028,
     "user": {
      "displayName": "박병운",
      "userId": "04400398390095856511"
     },
     "user_tz": -540
    },
    "id": "0788bc94",
    "outputId": "60216b02-3211-4e2a-8103-c438ac9221bd"
   },
   "outputs": [],
   "source": [
    "# 모델을 학습 시킨다.\n",
    "my_classifier = RandomForestClassifier()\n",
    "my_classifier.fit(my_X, my_Y)"
   ]
  },
  {
   "cell_type": "code",
   "execution_count": null,
   "id": "5428d1c4",
   "metadata": {
    "colab": {
     "base_uri": "https://localhost:8080/"
    },
    "executionInfo": {
     "elapsed": 19,
     "status": "ok",
     "timestamp": 1743374796522,
     "user": {
      "displayName": "박병운",
      "userId": "04400398390095856511"
     },
     "user_tz": -540
    },
    "id": "5428d1c4",
    "outputId": "fdc8b165-784a-40b2-f87b-9c99d605550b"
   },
   "outputs": [],
   "source": [
    "# In-Sample 정확도를 계산해 본다.\n",
    "acc = (my_classifier.predict(my_X) == my_Y).mean()\n",
    "print(f\"In-sample 예측 정확도는 {acc:0.2f} 입니다.\")"
   ]
  },
  {
   "cell_type": "code",
   "execution_count": null,
   "id": "fb7c8a6f",
   "metadata": {
    "executionInfo": {
     "elapsed": 15,
     "status": "ok",
     "timestamp": 1743374798653,
     "user": {
      "displayName": "박병운",
      "userId": "04400398390095856511"
     },
     "user_tz": -540
    },
    "id": "fb7c8a6f"
   },
   "outputs": [],
   "source": [
    "# my_classifier 객체 저장.\n",
    "with open(\"my_iris_classifier.pkl\",\"wb\") as f:\n",
    "    pickle.dump(my_classifier, f)"
   ]
  },
  {
   "cell_type": "code",
   "execution_count": null,
   "id": "2a0d00ba",
   "metadata": {
    "executionInfo": {
     "elapsed": 12,
     "status": "ok",
     "timestamp": 1743374803128,
     "user": {
      "displayName": "박병운",
      "userId": "04400398390095856511"
     },
     "user_tz": -540
    },
    "id": "2a0d00ba"
   },
   "outputs": [],
   "source": [
    "# my_scaler 객체 저장.\n",
    "with open(\"my_iris_scaler.pkl\",\"wb\") as f:\n",
    "    pickle.dump(my_scaler, f)"
   ]
  },
  {
   "cell_type": "code",
   "execution_count": null,
   "id": "a92871ba",
   "metadata": {
    "id": "a92871ba"
   },
   "outputs": [],
   "source": []
  }
 ],
 "metadata": {
  "colab": {
   "provenance": []
  },
  "kernelspec": {
   "display_name": "Python 3 (ipykernel)",
   "language": "python",
   "name": "python3"
  },
  "language_info": {
   "codemirror_mode": {
    "name": "ipython",
    "version": 3
   },
   "file_extension": ".py",
   "mimetype": "text/x-python",
   "name": "python",
   "nbconvert_exporter": "python",
   "pygments_lexer": "ipython3",
   "version": "3.10.10"
  }
 },
 "nbformat": 4,
 "nbformat_minor": 5
}
