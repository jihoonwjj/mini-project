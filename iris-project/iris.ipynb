{
 "cells": [
  {
   "cell_type": "markdown",
   "metadata": {
    "id": "Uqy2q_pEvStv"
   },
   "source": [
    "# 수행활동\n",
    "붓꽃 데이터 세트를 이용하여 plot 그리기"
   ]
  },
  {
   "cell_type": "markdown",
   "metadata": {
    "id": "xQyqH5egvgcY"
   },
   "source": [
    "### 활동 주제\n",
    "가장 기본적인 데이터 세트인 붓꽃 데이터 세트를 plot으로 그려 보자."
   ]
  },
  {
   "cell_type": "markdown",
   "metadata": {
    "id": "NFwKb_0Svr74"
   },
   "source": [
    "### 요구사항\n",
    "- 데이터 세트는 https://www.kaggle.com/datasets/uciml/iris 로 접속한다.\n",
    "- 가장 적절한 plot을 찾는다."
   ]
  },
  {
   "cell_type": "markdown",
   "metadata": {
    "id": "kezHR5dOv-6p"
   },
   "source": [
    "## 활동하기\n",
    "1. 사이트에 접속하고, 로그인한 뒤 download를 클릭해 보자.\n",
    "\n",
    "2. 다운로드한 데이터를 업로드해 준다.\n",
    "\n",
    "3. 코드를 작성해 보자.\n",
    "```\n",
    "# pass\n",
    "```\n",
    "\n",
    "4. 결과를 확인해 보자.\n"
   ]
  },
  {
   "cell_type": "code",
   "execution_count": null,
   "metadata": {
    "colab": {
     "base_uri": "https://localhost:8080/",
     "height": 206
    },
    "executionInfo": {
     "elapsed": 64,
     "status": "ok",
     "timestamp": 1744881228369,
     "user": {
      "displayName": "박병운",
      "userId": "04400398390095856511"
     },
     "user_tz": -540
    },
    "id": "w7EayzA7x9QM",
    "outputId": "30c5bbf3-4c76-4643-9520-f62edff3d8a6"
   },
   "outputs": [],
   "source": [
    "# 데이터에 대한 plot을 그리는 코드를 작성해 보세요.\n"
   ]
  },
  {
   "cell_type": "code",
   "execution_count": null,
   "metadata": {
    "colab": {
     "base_uri": "https://localhost:8080/",
     "height": 599
    },
    "executionInfo": {
     "elapsed": 154,
     "status": "ok",
     "timestamp": 1744881231151,
     "user": {
      "displayName": "박병운",
      "userId": "04400398390095856511"
     },
     "user_tz": -540
    },
    "id": "EpZWDDq1Boqi",
    "outputId": "a3aa5477-0eb0-45d5-bf17-43c8ec6e2421"
   },
   "outputs": [],
   "source": []
  },
  {
   "cell_type": "markdown",
   "metadata": {
    "id": "nmrFYluXz1Rz"
   },
   "source": [
    "### 스스로 평가하기\n",
    "다음 평가 항목을 스스로 평가해 보자.  \n",
    "\n",
    "- [ ] 다운로드한 데이터를 업로드할 수 있다.  \n",
    "- [ ] 데이터에 대한 plot을 그릴 수 있다.  "
   ]
  }
 ],
 "metadata": {
  "colab": {
   "authorship_tag": "ABX9TyPg27zwM7z5TbaAMeDcA+W7",
   "provenance": []
  },
  "kernelspec": {
   "display_name": "Python 3 (ipykernel)",
   "language": "python",
   "name": "python3"
  },
  "language_info": {
   "codemirror_mode": {
    "name": "ipython",
    "version": 3
   },
   "file_extension": ".py",
   "mimetype": "text/x-python",
   "name": "python",
   "nbconvert_exporter": "python",
   "pygments_lexer": "ipython3",
   "version": "3.10.10"
  }
 },
 "nbformat": 4,
 "nbformat_minor": 4
}
