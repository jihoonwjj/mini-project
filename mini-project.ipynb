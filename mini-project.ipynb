{
 "cells": [
  {
   "cell_type": "markdown",
   "id": "511fa056",
   "metadata": {},
   "source": [
    "### ML 예측모델 만들기 - MPG"
   ]
  },
  {
   "cell_type": "code",
   "execution_count": null,
   "id": "8373db41",
   "metadata": {},
   "outputs": [],
   "source": [
    "import pandas as pd\n",
    "import numpy as np\n",
    "import pickle\n",
    "from seaborn import load_dataset\n",
    "from sklearn.ensemble import RandomForestRegressor\n",
    "from sklearn.preprocessing import MinMaxScaler"
   ]
  },
  {
   "cell_type": "markdown",
   "id": "abdfaeef",
   "metadata": {},
   "source": [
    "#### 1. MPG 데이터를 가져와서 전처리 한다:"
   ]
  },
  {
   "cell_type": "code",
   "execution_count": null,
   "id": "dc70a4e7",
   "metadata": {},
   "outputs": [],
   "source": [
    "# Seaborn의 내장 데이터 mpg를 가져온다.\n"
   ]
  },
  {
   "cell_type": "code",
   "execution_count": null,
   "id": "5b89ca2b",
   "metadata": {},
   "outputs": [],
   "source": [
    "# 불필요한 name 컬럼은 제거한다.\n"
   ]
  },
  {
   "cell_type": "code",
   "execution_count": null,
   "id": "47344471",
   "metadata": {},
   "outputs": [],
   "source": [
    "# 결측치를 확인해 본다.\n"
   ]
  },
  {
   "cell_type": "code",
   "execution_count": null,
   "id": "a328a99e",
   "metadata": {},
   "outputs": [],
   "source": [
    "# 결측치를 제거한다.\n"
   ]
  },
  {
   "cell_type": "code",
   "execution_count": null,
   "id": "922431a6",
   "metadata": {},
   "outputs": [],
   "source": [
    "# 명목형 변수인 Origin는 가변수 (dummy variable)로 변환하여 둔다. \n"
   ]
  },
  {
   "cell_type": "code",
   "execution_count": null,
   "id": "4b515f37",
   "metadata": {},
   "outputs": [],
   "source": [
    "# 설명 변수(X)들을 별도로 둔다.\n"
   ]
  },
  {
   "cell_type": "code",
   "execution_count": null,
   "id": "5c1309e1",
   "metadata": {},
   "outputs": [],
   "source": [
    "# 종속변수.\n"
   ]
  },
  {
   "cell_type": "code",
   "execution_count": null,
   "id": "626848fe",
   "metadata": {},
   "outputs": [],
   "source": [
    "# X 변수의 MinMaxScaler 전처리.\n"
   ]
  },
  {
   "cell_type": "code",
   "execution_count": null,
   "id": "6ec43691",
   "metadata": {},
   "outputs": [],
   "source": [
    "# 전처리 된 X 변수.\n"
   ]
  },
  {
   "cell_type": "markdown",
   "id": "618f2b81",
   "metadata": {},
   "source": [
    "#### 2.  ML(회귀) 모델 생성과 저장:"
   ]
  },
  {
   "cell_type": "code",
   "execution_count": null,
   "id": "9e26ebac",
   "metadata": {},
   "outputs": [],
   "source": [
    "# 모델을 학습 시킨다.\n"
   ]
  },
  {
   "cell_type": "code",
   "execution_count": null,
   "id": "a28762d9",
   "metadata": {},
   "outputs": [],
   "source": [
    "# In-sample 결정계수 R^2를 계산해 본다.\n"
   ]
  },
  {
   "cell_type": "code",
   "execution_count": null,
   "id": "7fa2b95a",
   "metadata": {},
   "outputs": [],
   "source": [
    "# my_regressor 객체 저장.\n"
   ]
  },
  {
   "cell_type": "code",
   "execution_count": null,
   "id": "f1c4e84e",
   "metadata": {},
   "outputs": [],
   "source": [
    "# my_scaler 객체 저장.\n"
   ]
  },
  {
   "cell_type": "code",
   "execution_count": null,
   "id": "3eeb12ca",
   "metadata": {},
   "outputs": [],
   "source": []
  }
 ],
 "metadata": {
  "kernelspec": {
   "display_name": "Python 3 (ipykernel)",
   "language": "python",
   "name": "python3"
  },
  "language_info": {
   "codemirror_mode": {
    "name": "ipython",
    "version": 3
   },
   "file_extension": ".py",
   "mimetype": "text/x-python",
   "name": "python",
   "nbconvert_exporter": "python",
   "pygments_lexer": "ipython3",
   "version": "3.10.10"
  }
 },
 "nbformat": 4,
 "nbformat_minor": 5
}
